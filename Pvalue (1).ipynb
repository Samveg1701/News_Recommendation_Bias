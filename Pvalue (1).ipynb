{
  "nbformat": 4,
  "nbformat_minor": 0,
  "metadata": {
    "colab": {
      "provenance": []
    },
    "kernelspec": {
      "name": "python3",
      "display_name": "Python 3"
    },
    "language_info": {
      "name": "python"
    }
  },
  "cells": [
    {
      "cell_type": "code",
      "execution_count": 1,
      "metadata": {
        "id": "wbWf7GigEqLq"
      },
      "outputs": [],
      "source": [
        "import scipy.stats as stats"
      ]
    },
    {
      "cell_type": "code",
      "source": [
        "# BM BIAS DATA\n",
        "group1 = [9.4, 9.32, 9.84,  9.6, 9.4]\n",
        "group2 = [10.6, 10.76, 10.24, 10.72, 10.16]\n",
        "stats.wilcoxon(group1 , group2 )"
      ],
      "metadata": {
        "colab": {
          "base_uri": "https://localhost:8080/"
        },
        "id": "kPXyZ0cQEtx6",
        "outputId": "9b22dc3a-c1ff-45c4-d7e7-7641ae9998f9"
      },
      "execution_count": 2,
      "outputs": [
        {
          "output_type": "execute_result",
          "data": {
            "text/plain": [
              "WilcoxonResult(statistic=0.0, pvalue=0.0625)"
            ]
          },
          "metadata": {},
          "execution_count": 2
        }
      ]
    },
    {
      "cell_type": "code",
      "source": [
        "# BM Unbias DATA\n",
        "group4 = [10.44, 10.64, 10.12, 10.92, 10.16]\n",
        "group5 = [9.6, 9.32, 9.4, 9.4, 9.84]\n",
        "stats.wilcoxon(group4 , group5 )"
      ],
      "metadata": {
        "colab": {
          "base_uri": "https://localhost:8080/"
        },
        "id": "Z6u_WQ4vFvX0",
        "outputId": "65276a22-4533-47a6-a905-10281ac70022"
      },
      "execution_count": 3,
      "outputs": [
        {
          "output_type": "execute_result",
          "data": {
            "text/plain": [
              "WilcoxonResult(statistic=0.0, pvalue=0.0625)"
            ]
          },
          "metadata": {},
          "execution_count": 3
        }
      ]
    },
    {
      "cell_type": "code",
      "source": [
        "# FM BIAS DATA\n",
        "group6 = [9.16, 9.48, 9.16, 8.92, 9.16]\n",
        "group7 = [10.04, 9.88, 10.36, 10.36, 10.92]\n",
        "stats.wilcoxon(group6 , group7 )"
      ],
      "metadata": {
        "colab": {
          "base_uri": "https://localhost:8080/"
        },
        "id": "5p2NLKRCGD2z",
        "outputId": "cf133d52-3a29-4dc6-c33e-16e0f99d55b1"
      },
      "execution_count": 9,
      "outputs": [
        {
          "output_type": "execute_result",
          "data": {
            "text/plain": [
              "WilcoxonResult(statistic=0.0, pvalue=0.0625)"
            ]
          },
          "metadata": {},
          "execution_count": 9
        }
      ]
    },
    {
      "cell_type": "code",
      "source": [
        "# FM UNBIAS DATA\n",
        "group8 = [14.24, 13.8, 9.72, 13.52, 13.64]\n",
        "group9 = [16.26, 15.56, 15.16, 15.88, 15.08]\n",
        "stats.wilcoxon(group8 , group9 )"
      ],
      "metadata": {
        "colab": {
          "base_uri": "https://localhost:8080/"
        },
        "id": "Pc3XV7kkGde1",
        "outputId": "97f3da05-93ce-47aa-8e41-ec4fb6c273da"
      },
      "execution_count": 10,
      "outputs": [
        {
          "output_type": "execute_result",
          "data": {
            "text/plain": [
              "WilcoxonResult(statistic=0.0, pvalue=0.0625)"
            ]
          },
          "metadata": {},
          "execution_count": 10
        }
      ]
    }
  ]
}